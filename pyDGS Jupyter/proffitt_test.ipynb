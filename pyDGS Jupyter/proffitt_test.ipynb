{
 "cells": [
  {
   "cell_type": "code",
   "execution_count": 1,
   "metadata": {},
   "outputs": [],
   "source": [
    "import numpy as np\n",
    "import sys, os\n",
    "from imageio.v2 import imread\n",
    "import pywt\n",
    "from tqdm import tqdm\n",
    "from skimage.restoration import denoise_wavelet, estimate_sigma\n",
    "from functools import partial\n",
    "# rescale_sigma=True required to silence deprecation warnings\n",
    "_denoise_wavelet = partial(denoise_wavelet, rescale_sigma=True)\n",
    "import scipy.stats as stats\n",
    "from scipy.stats import gmean\n",
    "import cv2\n",
    "import matplotlib.pyplot as plt\n",
    "\n",
    "# =========================================================\n",
    "def rescale(dat,mn,mx):\n",
    "    \"\"\"\n",
    "    rescales an input dat between mn and mx\n",
    "    \"\"\"\n",
    "    m = min(dat.flatten())\n",
    "    M = max(dat.flatten())\n",
    "    return (mx-mn)*(dat-m)/(M-m)+mn\n",
    "\n",
    "##====================================\n",
    "def standardize(img):\n",
    "    img = np.array(img)\n",
    "    #standardization using adjusted standard deviation\n",
    "    N = np.shape(img)[0] * np.shape(img)[1]\n",
    "    s = np.maximum(np.std(img), 1.0/np.sqrt(N))\n",
    "    m = np.mean(img)\n",
    "    img = (img - m) / s\n",
    "    img = rescale(img, 0, 1)\n",
    "    del m, s, N\n",
    "\n",
    "    return img"
   ]
  },
  {
   "cell_type": "code",
   "execution_count": 2,
   "metadata": {},
   "outputs": [],
   "source": [
    "image= \"/home/casper/Documents/Aardwetenschappen/MSc Thesis/Photo/08_07_22/Location_2/Loc_2_3.jpg\"\n",
    "resolution = 0.0328590785907859\n",
    "img = cv2.imread(image)\n",
    "nxx, nyy, _ = img.shape\n",
    "width = max(nxx, nyy)\n",
    "maxscale= width*resolution / 8\n",
    "\n",
    "x= 0\n",
    "verbose = 1\n",
    "\n",
    "im = imread(image)   # read the image straight with imread\n",
    "im = np.squeeze(im)  # squeeze singleton dimensions\n",
    "if len(np.shape(im))>3:\n",
    "    im = im[:, :, :3]            # only keep the first 3 bands\n",
    "\n",
    "if len(np.shape(im))==3: # if rgb, convert to grey\n",
    "    im = (0.299 * im[:,:,0] + 0.5870*im[:,:,1] + 0.114*im[:,:,2]).astype('uint8')\n",
    "\n",
    "nx,ny = np.shape(im)\n",
    "if nx>ny:\n",
    "    im=im.T\n",
    "\n",
    "im = standardize(im)\n",
    "\n",
    "filter=False\n",
    "\n",
    "if filter:\n",
    "    sigma_est = estimate_sigma(im, multichannel=False, average_sigmas=True)\n",
    "    region = denoise_wavelet(im, multichannel=False, rescale_sigma=True,\n",
    "                                method='VisuShrink', mode='soft', sigma=sigma_est*2)\n",
    "else:\n",
    "    region = im.copy()\n",
    "\n",
    "original = rescale(region,0,255)\n",
    "\n",
    "nx, ny = original.shape\n"
   ]
  },
  {
   "cell_type": "code",
   "execution_count": 3,
   "metadata": {},
   "outputs": [],
   "source": [
    "P = []; M = []\n",
    "for k in np.linspace(1,nx-1,100):\n",
    "    [cfs, frequencies] = pywt.cwt(original[int(k),:], np.arange(np.maximum(nx,ny)/(width*resolution / 0.1), np.maximum(nx,ny)/(width*resolution / 12), 1),  'morl', .5) #cmor10-1.9\n",
    "    period = 1. / frequencies\n",
    "    power =(abs(cfs)) ** 2\n",
    "    power = np.mean(np.abs(power), axis=1)/(period**2)\n",
    "    P.append(power)\n",
    "\n",
    "    M.append(period[np.argmax(power)])\n",
    "\n",
    "p = np.mean(np.vstack(P), axis=0)\n",
    "p = np.array(p/np.sum(p))\n",
    "\n",
    "# get real scales by multiplying by resolution (mm/pixel)\n",
    "scales_3 = np.array(period)\n",
    "\n",
    "srt = np.sqrt(np.sum(p*((scales_3-np.mean(M))**2)))\n",
    "\n",
    "# plt.plot(scales, p,'m', lw=2)\n",
    "\n",
    "p = p+stats.norm.pdf(scales_3, np.mean(M), srt/2)\n",
    "p = np.hstack([p])\n",
    "scales_3 = np.hstack([scales_3])\n",
    "p = p/np.sum(p)\n",
    "x = 0\n",
    "# area-by-number to volume-by-number\n",
    "r_v_3 = (p*scales_3**x) / np.sum(p*scales_3**x) #volume-by-weight proportion\n",
    "\n"
   ]
  },
  {
   "cell_type": "code",
   "execution_count": 4,
   "metadata": {},
   "outputs": [
    {
     "data": {
      "image/png": "[encoded data removed]",
      "text/plain": [
       "<Figure size 432x288 with 1 Axes>"
      ]
     },
     "metadata": {
      "needs_background": "light"
     },
     "output_type": "display_data"
    }
   ],
   "source": [
    "plt.plot((scales_3*resolution), r_v_3)\n",
    "plt.show()\n"
   ]
  },
  {
   "cell_type": "code",
   "execution_count": 5,
   "metadata": {},
   "outputs": [
    {
     "name": "stdout",
     "output_type": "stream",
     "text": [
      "0.611867197772619\n",
      "0.9942841963805055\n"
     ]
    }
   ],
   "source": [
    "print(np.trapz(r_v_3,(scales_3)))\n",
    "print(np.trapz(r_v_3))"
   ]
  },
  {
   "cell_type": "code",
   "execution_count": 6,
   "metadata": {},
   "outputs": [
    {
     "name": "stdout",
     "output_type": "stream",
     "text": [
      "0.6169362262391971\n"
     ]
    },
    {
     "data": {
      "image/png": "[encoded data removed]",
      "text/plain": [
       "<Figure size 432x288 with 1 Axes>"
      ]
     },
     "metadata": {
      "needs_background": "light"
     },
     "output_type": "display_data"
    }
   ],
   "source": [
    "x1 = (np.interp([np.linspace(0.063, 0.125, 100)], (scales_3*resolution), r_v_3)[0])\n",
    "\n",
    "x2 = (np.interp([np.linspace(0.125, 0.180, 100)], (scales_3*resolution), r_v_3)[0])\n",
    "\n",
    "x3 = (np.interp([np.linspace(0.180, 0.250, 100)], (scales_3*resolution), r_v_3)[0])\n",
    "\n",
    "x4 = (np.interp([np.linspace(0.250, 0.300, 100)], (scales_3*resolution), r_v_3)[0])\n",
    "\n",
    "x5 = (np.interp([np.linspace(0.300, 0.355, 100)], (scales_3*resolution), r_v_3)[0])\n",
    "\n",
    "x6 = (np.interp([np.linspace(0.355, 0.425, 100)], (scales_3*resolution), r_v_3)[0])\n",
    "\n",
    "x7 = (np.interp([np.linspace(0.425, 0.500, 100)], (scales_3*resolution), r_v_3)[0])\n",
    "\n",
    "x8 = (np.interp([np.linspace(0.500, 0.710, 100)], (scales_3*resolution), r_v_3)[0])\n",
    "\n",
    "x9 = (np.interp([np.linspace(0.710, 1, 100)], (scales_3*resolution), r_v_3)[0])\n",
    "\n",
    "x10 = (np.interp([np.linspace(1, 2, 100)], (scales_3*resolution), r_v_3)[0])\n",
    "\n",
    "x11 = (np.interp([np.linspace(2, 4, 100)], (scales_3*resolution), r_v_3)[0])\n",
    "\n",
    "x12 = (np.interp([np.linspace(4, 8, 100)], (scales_3*resolution), r_v_3)[0])\n",
    "\n",
    "ytot = np.concatenate((x1, x2, x3, x4, x5, x6, x7, x8, x9, x10, x11, x12))\n",
    "xtot = np.concatenate((np.linspace(0.063, 0.125, 100), np.linspace(0.125, 0.180, 100), np.linspace(0.180, 0.250, 100), np.linspace(0.250, 0.300, 100),\n",
    "                       np.linspace(0.300, 0.355, 100), np.linspace(0.355, 0.425, 100), np.linspace(0.425, 0.500, 100), np.linspace(0.500, 0.710, 100),\n",
    "                       np.linspace(0.710, 1, 100), np.linspace(1, 2, 100), np.linspace(2, 4, 100), np.linspace(4, 8, 100)))\n",
    "print(np.trapz(ytot, xtot)/resolution)\n",
    "plt.scatter(np.linspace(0.063, 0.125, 100), x1)\n",
    "plt.scatter(np.linspace(0.125, 0.180, 100), x2)\n",
    "plt.scatter(np.linspace(0.180, 0.250, 100), x3)\n",
    "plt.scatter(np.linspace(0.250, 0.300, 100), x4)\n",
    "plt.scatter(np.linspace(0.300, 0.355, 100), x5)\n",
    "plt.scatter(np.linspace(0.355, 0.425, 100), x6)\n",
    "plt.scatter(np.linspace(0.425, 0.500, 100), x7)\n",
    "plt.scatter(np.linspace(0.500, 0.710, 100), x8)\n",
    "plt.scatter(np.linspace(0.710, 1, 100), x9)\n",
    "plt.scatter(np.linspace(1, 2, 100), x10)\n",
    "plt.scatter(np.linspace(2, 4, 100), x11)\n",
    "plt.scatter(np.linspace(4, 8, 100), x12)\n",
    "plt.plot(xtot, ytot)\n",
    "plt.show()"
   ]
  },
  {
   "cell_type": "code",
   "execution_count": 7,
   "metadata": {},
   "outputs": [
    {
     "name": "stdout",
     "output_type": "stream",
     "text": [
      "           2\n",
      "2.839e-05 x - 0.0004175 x + 0.001833\n"
     ]
    }
   ],
   "source": [
    "z = np.polyfit(np.linspace(0.063, 0.125, 100), np.interp([np.linspace(0.063, 0.125, 100)], (scales_3*resolution), r_v_3)[0], 5)\n",
    "print(np.poly1d(z))\n",
    "func = np.poly1d(z)\n",
    "z = np.polyfit(np.linspace(0.125, 0.180, 100), np.interp([np.linspace(0.125, 0.180, 100)], (scales_3*resolution), r_v_3)[0], 5)\n",
    "print(np.poly1d(z))\n",
    "z = np.polyfit(np.linspace(0.180, 0.250, 100), np.interp([np.linspace(0.180, 0.250, 100)], (scales_3*resolution), r_v_3)[0], 5)\n",
    "print(np.poly1d(z))\n",
    "z = np.polyfit(np.linspace(0.250, 0.300, 100), np.interp([np.linspace(0.250, 0.300, 100)], (scales_3*resolution), r_v_3)[0], 5)\n",
    "print(np.poly1d(z))\n",
    "z = np.polyfit(np.linspace(0.300, 0.355, 100), np.interp([np.linspace(0.300, 0.355, 100)], (scales_3*resolution), r_v_3)[0], 5)\n",
    "print(np.poly1d(z))\n",
    "z = np.polyfit(np.linspace(0.355, 0.425, 100), np.interp([np.linspace(0.355, 0.425, 100)], (scales_3*resolution), r_v_3)[0], 5)\n",
    "print(np.poly1d(z))\n",
    "z = np.polyfit(np.linspace(0.425, 0.500, 100), np.interp([np.linspace(0.425, 0.500, 100)], (scales_3*resolution), r_v_3)[0], 5)\n",
    "print(np.poly1d(z))\n",
    "z = np.polyfit(np.linspace(0.500, 0.710, 100), np.interp([np.linspace(0.500, 0.710, 100)], (scales_3*resolution), r_v_3)[0], 5)\n",
    "print(np.poly1d(z))\n",
    "z = np.polyfit(np.linspace(0.710, 1, 100), np.interp([np.linspace(0.710, 1, 100)], (scales_3*resolution), r_v_3)[0], 5)\n",
    "print(np.poly1d(z))\n",
    "z = np.polyfit(np.linspace(1, 2, 100), np.interp([np.linspace(1, 2, 100)], (scales_3*resolution), r_v_3)[0],5)\n",
    "print(np.poly1d(z))\n",
    "z = np.polyfit(np.linspace(2, 4, 100), np.interp([np.linspace(2, 4, 100)], (scales_3*resolution), r_v_3)[0], 5)\n",
    "print(np.poly1d(z))\n",
    "z = np.polyfit(np.linspace(4, 8, 1000), np.interp([np.linspace(4, 8, 1000)], (scales_3*resolution), r_v_3)[0], 2)\n",
    "print(np.poly1d(z))\n"
   ]
  },
  {
   "cell_type": "code",
   "execution_count": 33,
   "metadata": {},
   "outputs": [
    {
     "name": "stdout",
     "output_type": "stream",
     "text": [
      "0.011126242832438014\n",
      "0.03951831953841176\n",
      "0.02886964700282796\n",
      "0.05604288328216678\n",
      "0.026855729658201065\n",
      "0.03840860782487487\n",
      "0.03633746633943586\n",
      "0.045960175326985944\n",
      "0.11450785699741374\n",
      "0.12171025707899388\n",
      "0.26373898745636654\n",
      "0.14520200203606848\n",
      "0.06518406847948749\n",
      "0.0\n"
     ]
    }
   ],
   "source": [
    "a = (scales_3*resolution)\n",
    "minSz = np.array([0, 0.063, 0.125, 0.180, 0.250, 0.300, 0.355, 0.425, 0.500, 0.710, 1, 2, 4, 8])\n",
    "maxSz = np.array([0.063, 0.125, 0.180, 0.250, 0.300, 0.355, 0.425, 0.500, 0.710, 1, 2, 4, 8, 12])\n",
    "\n",
    "for i in range(len(minSz)):\n",
    "    _, length = np.shape(np.where((a>minSz[i])&(a<maxSz[i])))\n",
    "    print(np.trapz(np.interp([np.linspace(minSz[i], maxSz[i], 1000)], (scales_3*resolution), r_v_3)[0])*length/1000)"
   ]
  }
 ],
 "metadata": {
  "kernelspec": {
   "display_name": "Python 3.10.5 64-bit",
   "language": "python",
   "name": "python3"
  },
  "language_info": {
   "codemirror_mode": {
    "name": "ipython",
    "version": 3
   },
   "file_extension": ".py",
   "mimetype": "text/x-python",
   "name": "python",
   "nbconvert_exporter": "python",
   "pygments_lexer": "ipython3",
   "version": "3.10.5"
  },
  "orig_nbformat": 4,
  "vscode": {
   "interpreter": {
    "hash": "e7370f93d1d0cde622a1f8e1c04877d8463912d04d973331ad4851f04de6915a"
   }
  }
 },
 "nbformat": 4,
 "nbformat_minor": 2
}
