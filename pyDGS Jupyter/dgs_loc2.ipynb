{
 "cells": [
  {
   "cell_type": "code",
   "execution_count": 1,
   "metadata": {},
   "outputs": [],
   "source": [
    "import numpy as np\n",
    "import sys, os\n",
    "from imageio.v2 import imread\n",
    "import pywt\n",
    "from tqdm import tqdm\n",
    "from skimage.restoration import denoise_wavelet, estimate_sigma\n",
    "from functools import partial\n",
    "# rescale_sigma=True required to silence deprecation warnings\n",
    "_denoise_wavelet = partial(denoise_wavelet, rescale_sigma=True)\n",
    "import scipy.stats as stats\n",
    "from scipy.stats import gmean\n",
    "import cv2\n",
    "import matplotlib.pyplot as plt\n",
    "\n",
    "# =========================================================\n",
    "def rescale(dat,mn,mx):\n",
    "    \"\"\"\n",
    "    rescales an input dat between mn and mx\n",
    "    \"\"\"\n",
    "    m = min(dat.flatten())\n",
    "    M = max(dat.flatten())\n",
    "    return (mx-mn)*(dat-m)/(M-m)+mn\n",
    "\n",
    "##====================================\n",
    "def standardize(img):\n",
    "    img = np.array(img)\n",
    "    #standardization using adjusted standard deviation\n",
    "    N = np.shape(img)[0] * np.shape(img)[1]\n",
    "    s = np.maximum(np.std(img), 1.0/np.sqrt(N))\n",
    "    m = np.mean(img)\n",
    "    img = (img - m) / s\n",
    "    img = rescale(img, 0, 1)\n",
    "    del m, s, N\n",
    "\n",
    "    return img"
   ]
  },
  {
   "cell_type": "code",
   "execution_count": 2,
   "metadata": {},
   "outputs": [],
   "source": [
    "image= \"/home/casper/Documents/Aardwetenschappen/MSc Thesis/Photo/08_07_22/Dried/Location_2_3.jpg\"\n",
    "resolution = 0.0391725352112676\n",
    "img = cv2.imread(image)\n",
    "nxx, nyy, _ = img.shape\n",
    "width = max(nxx, nyy)\n",
    "maxscale= width*resolution / 8\n",
    "\n",
    "x= 0\n",
    "verbose = 1\n",
    "\n",
    "im = imread(image)   # read the image straight with imread\n",
    "im = np.squeeze(im)  # squeeze singleton dimensions\n",
    "if len(np.shape(im))>3:\n",
    "    im = im[:, :, :3]            # only keep the first 3 bands\n",
    "\n",
    "if len(np.shape(im))==3: # if rgb, convert to grey\n",
    "    im = (0.299 * im[:,:,0] + 0.5870*im[:,:,1] + 0.114*im[:,:,2]).astype('uint8')\n",
    "\n",
    "nx,ny = np.shape(im)\n",
    "if nx>ny:\n",
    "    im=im.T\n",
    "\n",
    "im = standardize(im)\n",
    "\n",
    "filter=False\n",
    "\n",
    "if filter:\n",
    "    sigma_est = estimate_sigma(im, multichannel=False, average_sigmas=True)\n",
    "    region = denoise_wavelet(im, multichannel=False, rescale_sigma=True,\n",
    "                                method='VisuShrink', mode='soft', sigma=sigma_est*2)\n",
    "else:\n",
    "    region = im.copy()\n",
    "\n",
    "original = rescale(region,0,255)\n",
    "\n",
    "nx, ny = original.shape\n"
   ]
  },
  {
   "cell_type": "markdown",
   "metadata": {},
   "source": [
    "Testing"
   ]
  },
  {
   "cell_type": "code",
   "execution_count": 3,
   "metadata": {},
   "outputs": [],
   "source": [
    "P = []; M = []\n",
    "for k in np.linspace(1,nx-1,100):\n",
    "    [cfs, frequencies] = pywt.cwt(original[int(k),:], np.arange(np.maximum(nx,ny)/(width*resolution / .1), np.maximum(nx,ny)/(width*resolution / .9), 1),  'cmor10-1.4', .5) #cmor10-8\n",
    "    period = 1. / frequencies\n",
    "    power =(abs(cfs)) ** 2\n",
    "    power = np.mean(np.abs(power), axis=1)/(period**2)\n",
    "    P.append(power)\n",
    "\n",
    "    M.append(period[np.argmax(power)])\n",
    "\n",
    "p = np.mean(np.vstack(P), axis=0)\n",
    "p = np.array(p/np.sum(p))\n",
    "\n",
    "# get real scales by multiplying by resolution (mm/pixel)\n",
    "scales_1 = np.array(period)\n",
    "\n",
    "srt = np.sqrt(np.sum(p*((scales_1-np.mean(M))**2)))\n",
    "\n",
    "# plt.plot(scales, p,'m', lw=2)\n",
    "\n",
    "p = p+stats.norm.pdf(scales_1, np.mean(M), srt/2)\n",
    "p = np.hstack([p])\n",
    "scales_1 = np.hstack([scales_1])\n",
    "p = p/np.sum(p)\n",
    "x = 0\n",
    "# area-by-number to volume-by-number\n",
    "r_v_1 = (p*scales_1**x) / np.sum(p*scales_1**x) #volume-by-weight proportion"
   ]
  },
  {
   "cell_type": "code",
   "execution_count": 17,
   "metadata": {},
   "outputs": [],
   "source": [
    "P = []; M = []\n",
    "for k in np.linspace(1,nx-1,100):\n",
    "    [cfs, frequencies] = pywt.cwt(original[int(k),:], np.arange(np.maximum(nx,ny)/(width*resolution / 1), np.maximum(nx,ny)/(width*resolution / 3.9), 1),  'cmor10-4', .5) #cmor10-1.1\n",
    "    period = 1. / frequencies\n",
    "    power =(abs(cfs)) ** 2\n",
    "    power = np.mean(np.abs(power), axis=1)/(period**2)\n",
    "    P.append(power)\n",
    "\n",
    "    M.append(period[np.argmax(power)])\n",
    "\n",
    "p = np.mean(np.vstack(P), axis=0)\n",
    "p = np.array(p/np.sum(p))\n",
    "\n",
    "# get real scales by multiplying by resolution (mm/pixel)\n",
    "scales_2 = np.array(period)\n",
    "\n",
    "srt = np.sqrt(np.sum(p*((scales_2-np.mean(M))**2)))\n",
    "\n",
    "# plt.plot(scales, p,'m', lw=2)\n",
    "\n",
    "p = p+stats.norm.pdf(scales_2, np.mean(M), srt/2)\n",
    "p = np.hstack([p])\n",
    "scales_2 = np.hstack([scales_2])\n",
    "p = p/np.sum(p)\n",
    "x = 0\n",
    "# area-by-number to volume-by-number\n",
    "r_v_2 = (p*scales_2**x) / np.sum(p*scales_2**x) #volume-by-weight proportion\n"
   ]
  },
  {
   "cell_type": "code",
   "execution_count": 13,
   "metadata": {},
   "outputs": [],
   "source": [
    "P = []; M = []\n",
    "for k in np.linspace(1,nx-1,100):\n",
    "    [cfs, frequencies] = pywt.cwt(original[int(k),:], np.arange(np.maximum(nx,ny)/(width*resolution / 4), np.maximum(nx,ny)/(width*resolution / 20), 1),  'cmor10-3', .5) #cmor10-8\n",
    "    period = 1. / frequencies\n",
    "    power =(abs(cfs)) ** 2\n",
    "    power = np.mean(np.abs(power), axis=1)/(period**2)\n",
    "    P.append(power)\n",
    "\n",
    "    M.append(period[np.argmax(power)])\n",
    "\n",
    "p = np.mean(np.vstack(P), axis=0)\n",
    "p = np.array(p/np.sum(p))\n",
    "\n",
    "# get real scales by multiplying by resolution (mm/pixel)\n",
    "scales_3 = np.array(period)\n",
    "\n",
    "srt = np.sqrt(np.sum(p*((scales_3-np.mean(M))**2)))\n",
    "\n",
    "# plt.plot(scales, p,'m', lw=2)\n",
    "\n",
    "p = p+stats.norm.pdf(scales_3, np.mean(M), srt/2)\n",
    "p = np.hstack([p])\n",
    "scales_3 = np.hstack([scales_3])\n",
    "p = p/np.sum(p)\n",
    "x = 0\n",
    "# area-by-number to volume-by-number\n",
    "r_v_3 = (p*scales_3**x) / np.sum(p*scales_3**x) #volume-by-weight proportion"
   ]
  },
  {
   "cell_type": "code",
   "execution_count": 16,
   "metadata": {},
   "outputs": [
    {
     "data": {
      "image/png": "[encoded data removed]",
      "text/plain": [
       "<Figure size 432x288 with 1 Axes>"
      ]
     },
     "metadata": {
      "needs_background": "light"
     },
     "output_type": "display_data"
    }
   ],
   "source": [
    "r_v_T = np.concatenate((r_v_1, r_v_2, r_v_3))\n",
    "r_v_T = r_v_T / 3\n",
    "scales_T = np.concatenate((scales_1, scales_2, scales_3))\n",
    "\n",
    "pd_T = np.interp([.05,.1,.16,.25,.3,.5,.75,.84,.9,.95],np.hstack((0,np.cumsum(r_v_T))), np.hstack((0,scales_T)) ) * resolution\n",
    "\n",
    "sieve_open = [8, 4, 2, 1, 0.71, 0.5, 0.425, 0.355, 0.3, 0.25, 0.18, 0.125, 0.063]\n",
    "sieve_data_2 = [97,94,89,79,74,57,49,35,22,8,1,0,0]\n",
    "\n",
    "percentiles = [5, 10, 16, 25, 30, 50, 75, 84, 90, 95] \n",
    "\n",
    "dgs_data = [0.20363479, 0.332422745, 0.465360763, 0.649031694, 0.749169018, 1.168365485, 1.907612333, 2.395047588, 2.99679224, 3.80914593]\n",
    "plt.plot(pd_T, percentiles, marker='.')\n",
    "plt.plot(sieve_open, sieve_data_2, ls='--', color='black')\n",
    "plt.plot(dgs_data, percentiles, color='red')\n",
    "\n",
    "plt.xscale(\"log\")\n",
    "plt.grid(which='major', linewidth=2, linestyle='-')\n",
    "plt.grid(which='minor', linewidth=1, linestyle='--')\n",
    "plt.yticks(np.arange(0,110, 10), ['0', '10', '20', '30', '40', '50', '60', '70', '80', '90', '100'] )\n",
    "plt.xticks([0.1, 1, 10], [0.1,1,10])\n",
    "\n",
    "plt.show()"
   ]
  }
 ],
 "metadata": {
  "kernelspec": {
   "display_name": "Python 3.10.5 64-bit",
   "language": "python",
   "name": "python3"
  },
  "language_info": {
   "codemirror_mode": {
    "name": "ipython",
    "version": 3
   },
   "file_extension": ".py",
   "mimetype": "text/x-python",
   "name": "python",
   "nbconvert_exporter": "python",
   "pygments_lexer": "ipython3",
   "version": "3.10.5"
  },
  "orig_nbformat": 4,
  "vscode": {
   "interpreter": {
    "hash": "e7370f93d1d0cde622a1f8e1c04877d8463912d04d973331ad4851f04de6915a"
   }
  }
 },
 "nbformat": 4,
 "nbformat_minor": 2
}
