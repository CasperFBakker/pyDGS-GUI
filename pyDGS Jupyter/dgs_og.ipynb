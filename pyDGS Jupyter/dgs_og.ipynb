{
 "cells": [
  {
   "cell_type": "code",
   "execution_count": 1,
   "metadata": {},
   "outputs": [],
   "source": [
    "import numpy as np\n",
    "import sys, os\n",
    "from imageio.v2 import imread\n",
    "import pywt\n",
    "from tqdm import tqdm\n",
    "from skimage.restoration import denoise_wavelet, estimate_sigma\n",
    "from functools import partial\n",
    "# rescale_sigma=True required to silence deprecation warnings\n",
    "_denoise_wavelet = partial(denoise_wavelet, rescale_sigma=True)\n",
    "import scipy.stats as stats\n",
    "import cv2"
   ]
  },
  {
   "cell_type": "code",
   "execution_count": 2,
   "metadata": {},
   "outputs": [],
   "source": [
    "# =========================================================\n",
    "def rescale(dat,mn,mx):\n",
    "    \"\"\"\n",
    "    rescales an input dat between mn and mx\n",
    "    \"\"\"\n",
    "    m = min(dat.flatten())\n",
    "    M = max(dat.flatten())\n",
    "    return (mx-mn)*(dat-m)/(M-m)+mn\n",
    "\n",
    "##====================================\n",
    "def standardize(img):\n",
    "    img = np.array(img)\n",
    "    #standardization using adjusted standard deviation\n",
    "    N = np.shape(img)[0] * np.shape(img)[1]\n",
    "    s = np.maximum(np.std(img), 1.0/np.sqrt(N))\n",
    "    m = np.mean(img)\n",
    "    img = (img - m) / s\n",
    "    img = rescale(img, 0, 1)\n",
    "    del m, s, N\n",
    "\n",
    "    return img"
   ]
  },
  {
   "cell_type": "code",
   "execution_count": 3,
   "metadata": {},
   "outputs": [],
   "source": [
    "image= \"C_4.jpg\"\n",
    "\n",
    "resolution = 0.088068182\n",
    "img = cv2.imread(image)\n",
    "nx, ny, _ = img.shape\n",
    "width = max(nx, ny)\n",
    "maxscale= width*resolution / 8\n",
    "\n",
    "x= 0\n",
    "verbose = 1"
   ]
  },
  {
   "cell_type": "markdown",
   "metadata": {},
   "source": [
    "Stage 1: read image"
   ]
  },
  {
   "cell_type": "code",
   "execution_count": 4,
   "metadata": {},
   "outputs": [],
   "source": [
    "im = imread(image)   # read the image straight with imread\n",
    "im = np.squeeze(im)  # squeeze singleton dimensions\n",
    "if len(np.shape(im))>3:\n",
    "    im = im[:, :, :3]            # only keep the first 3 bands\n",
    "\n",
    "if len(np.shape(im))==3: # if rgb, convert to grey\n",
    "    im = (0.299 * im[:,:,0] + 0.5870*im[:,:,1] + 0.114*im[:,:,2]).astype('uint8')\n",
    "\n",
    "nx,ny = np.shape(im)\n",
    "if nx>ny:\n",
    "    im=im.T\n",
    "\n",
    "im = standardize(im)"
   ]
  },
  {
   "cell_type": "markdown",
   "metadata": {},
   "source": [
    "Stage 2: Denoised image using default parameters of `denoise_wavelet`"
   ]
  },
  {
   "cell_type": "code",
   "execution_count": 5,
   "metadata": {},
   "outputs": [],
   "source": [
    "filter=False\n",
    "\n",
    "if filter:\n",
    "    sigma_est = estimate_sigma(im, multichannel=False, average_sigmas=True)\n",
    "    region = denoise_wavelet(im, multichannel=False, rescale_sigma=True,\n",
    "                                method='VisuShrink', mode='soft', sigma=sigma_est*2)\n",
    "else:\n",
    "    region = im.copy()\n",
    "\n",
    "original = rescale(region,0,255)\n",
    "\n",
    "nx, ny = original.shape"
   ]
  },
  {
   "cell_type": "markdown",
   "metadata": {},
   "source": [
    "Stage 3: Call cwt to get particle size distribution"
   ]
  },
  {
   "cell_type": "code",
   "execution_count": 13,
   "metadata": {},
   "outputs": [],
   "source": [
    "P = []; M = []\n",
    "for k in np.linspace(1,nx-1,100):\n",
    "   [cfs, frequencies] = pywt.cwt(original[int(k),:], np.arange(3, np.maximum(nx,ny)/maxscale, 1),  'morl' , .5)\n",
    "   period = 1. / frequencies\n",
    "   power =(abs(cfs)) ** 2\n",
    "   power = np.mean(np.abs(power), axis=1)/(period**2)\n",
    "   P.append(power)\n",
    "\n",
    "   M.append(period[np.argmax(power)])\n"
   ]
  },
  {
   "cell_type": "code",
   "execution_count": 14,
   "metadata": {},
   "outputs": [
    {
     "name": "stdout",
     "output_type": "stream",
     "text": [
      "(88,)\n",
      "(100, 88)\n"
     ]
    }
   ],
   "source": [
    "print(np.shape(power))\n",
    "print(np.shape(P))\n"
   ]
  },
  {
   "cell_type": "code",
   "execution_count": 15,
   "metadata": {},
   "outputs": [
    {
     "name": "stdout",
     "output_type": "stream",
     "text": [
      "(88,)\n"
     ]
    }
   ],
   "source": [
    "p = np.mean(np.vstack(P), axis=0)\n",
    "\n",
    "p = np.array(p/np.sum(p))\n",
    "\n",
    "print(np.shape(p))\n",
    "# get real scales by multiplying by resolution (mm/pixel)\n",
    "scales = np.array(period)*resolution\n",
    "\n",
    "srt = np.sqrt(np.sum(p*((scales-np.mean(M))**2)))\n",
    "\n",
    "p = p+stats.norm.pdf(scales, np.mean(M), srt/2)\n",
    "p = np.hstack([0,p])\n",
    "scales = np.hstack([0,scales])\n",
    "p = p/np.sum(p)\n",
    "\n",
    "# area-by-number to volume-by-number\n",
    "r_v = (p*scales**x) / np.sum(p*scales**x) #volume-by-weight proportion"
   ]
  },
  {
   "cell_type": "code",
   "execution_count": null,
   "metadata": {},
   "outputs": [],
   "source": [
    "h = 2\n",
    "hs = 4\n",
    "\n",
    "test1 = h * hs**2\n",
    "print(test1)"
   ]
  },
  {
   "cell_type": "markdown",
   "metadata": {},
   "source": [
    "Stage 5: Calc particle size stats"
   ]
  },
  {
   "cell_type": "code",
   "execution_count": 16,
   "metadata": {},
   "outputs": [
    {
     "name": "stdout",
     "output_type": "stream",
     "text": [
      "d50 = 3.6155200895375654\n",
      "mean size = 3.39645253008219\n",
      "stdev = 1.1335927370694576\n",
      "skewness = -0.008636888260900135\n",
      "kurtosis = 0.030506515157315648\n"
     ]
    }
   ],
   "source": [
    "\n",
    "pd = np.interp([.05,.1,.16,.25,.3,.5,.75,.84,.9,.95],np.hstack((0,np.cumsum(r_v))), np.hstack((0,scales)) )\n",
    "if verbose==1:\n",
    "    print(\"d50 = \"+str(pd[5]))\n",
    "\n",
    "mnsz = np.sum(r_v*scales)\n",
    "if verbose==1:\n",
    "    print(\"mean size = \"+str(mnsz))\n",
    "\n",
    "srt = np.sqrt(np.sum(r_v*((scales-mnsz)**2)))\n",
    "if verbose==1:\n",
    "    print(\"stdev = \"+str(srt))\n",
    "\n",
    "sk = (sum(r_v*((scales-mnsz)**3)))/(100*srt**3)\n",
    "if verbose==1:\n",
    "    print(\"skewness = \"+str(sk))\n",
    "\n",
    "kurt = (sum(r_v*((scales-mnsz)**4)))/(100*srt**4)\n",
    "if verbose==1:\n",
    "    print(\"kurtosis = \"+str(kurt))\n"
   ]
  },
  {
   "cell_type": "markdown",
   "metadata": {},
   "source": [
    "Stage 6: Return a dict object of stats"
   ]
  },
  {
   "cell_type": "code",
   "execution_count": 10,
   "metadata": {},
   "outputs": [
    {
     "name": "stdout",
     "output_type": "stream",
     "text": [
      "{'mean grain size': 3.4078700058290634, 'grain size sorting': 1.1338662244142659, 'grain size skewness': -0.00867222956567473, 'grain size kurtosis': 0.030545330781198272, 'percentiles': [0.05, 0.1, 0.16, 0.25, 0.3, 0.5, 0.75, 0.84, 0.9, 0.95], 'percentile_values': array([1.00340185, 1.68202037, 2.20330136, 2.72222573, 2.94421878,\n",
      "       3.62625094, 4.28488708, 4.50265626, 4.646084  , 4.76550945]), 'grain size frequencies': array([0.        , 0.00184878, 0.00254702, 0.00307818, 0.00342343,\n",
      "       0.0035489 , 0.00356424, 0.00354501, 0.00350997, 0.0034819 ,\n",
      "       0.00343186, 0.00339262, 0.00339267, 0.00340895, 0.00343373,\n",
      "       0.00349421, 0.00356512, 0.00362729, 0.00373767, 0.00385809,\n",
      "       0.00397635, 0.00410944, 0.00426132, 0.00443287, 0.00461466,\n",
      "       0.00481741, 0.00504084, 0.00528045, 0.00553195, 0.00578554,\n",
      "       0.00607421, 0.0063723 , 0.00668131, 0.00699674, 0.00733897,\n",
      "       0.00768979, 0.00805175, 0.00843715, 0.00883586, 0.00924533,\n",
      "       0.0096786 , 0.01011119, 0.01056429, 0.01102871, 0.01150483,\n",
      "       0.0119899 , 0.01248147, 0.01298275, 0.01349035, 0.01400335,\n",
      "       0.01451537, 0.01503009, 0.0155514 , 0.01606686, 0.01658366,\n",
      "       0.01709312, 0.01760222, 0.01810044, 0.01859015, 0.01907126,\n",
      "       0.01953428, 0.0199983 , 0.0204356 , 0.02086076, 0.02126892,\n",
      "       0.02165419, 0.02202104, 0.02236476, 0.02268577, 0.02298249,\n",
      "       0.02325215, 0.02349524, 0.02370952, 0.02389478, 0.02405104,\n",
      "       0.0241752 , 0.0242706 , 0.02433431, 0.02436601, 0.02436555,\n",
      "       0.02433244, 0.02426905, 0.0241741 ]), 'grain size bins': array([0.        , 0.17448405, 0.2326454 , 0.29080675, 0.3489681 ,\n",
      "       0.40712946, 0.46529081, 0.52345216, 0.58161351, 0.63977486,\n",
      "       0.69793621, 0.75609756, 0.81425891, 0.87242026, 0.93058161,\n",
      "       0.98874296, 1.04690431, 1.10506566, 1.16322702, 1.22138837,\n",
      "       1.27954972, 1.33771107, 1.39587242, 1.45403377, 1.51219512,\n",
      "       1.57035647, 1.62851782, 1.68667917, 1.74484052, 1.80300187,\n",
      "       1.86116322, 1.91932458, 1.97748593, 2.03564728, 2.09380863,\n",
      "       2.15196998, 2.21013133, 2.26829268, 2.32645403, 2.38461538,\n",
      "       2.44277673, 2.50093808, 2.55909943, 2.61726078, 2.67542214,\n",
      "       2.73358349, 2.79174484, 2.84990619, 2.90806754, 2.96622889,\n",
      "       3.02439024, 3.08255159, 3.14071294, 3.19887429, 3.25703564,\n",
      "       3.31519699, 3.37335834, 3.4315197 , 3.48968105, 3.5478424 ,\n",
      "       3.60600375, 3.6641651 , 3.72232645, 3.7804878 , 3.83864915,\n",
      "       3.8968105 , 3.95497185, 4.0131332 , 4.07129455, 4.1294559 ,\n",
      "       4.18761726, 4.24577861, 4.30393996, 4.36210131, 4.42026266,\n",
      "       4.47842401, 4.53658536, 4.59474671, 4.65290806, 4.71106941,\n",
      "       4.76923076, 4.82739211, 4.88555346])}\n"
     ]
    }
   ],
   "source": [
    "print( {'mean grain size': mnsz, 'grain size sorting': srt, 'grain size skewness': sk, 'grain size kurtosis': kurt, \n",
    "        'percentiles': [.05,.1,.16,.25,.3,.5,.75,.84,.9,.95], 'percentile_values': pd, 'grain size frequencies': r_v, 'grain size bins': scales})"
   ]
  }
 ],
 "metadata": {
  "kernelspec": {
   "display_name": "Python 3.10.4 64-bit",
   "language": "python",
   "name": "python3"
  },
  "language_info": {
   "codemirror_mode": {
    "name": "ipython",
    "version": 3
   },
   "file_extension": ".py",
   "mimetype": "text/x-python",
   "name": "python",
   "nbconvert_exporter": "python",
   "pygments_lexer": "ipython3",
   "version": "3.10.5"
  },
  "orig_nbformat": 4,
  "vscode": {
   "interpreter": {
    "hash": "e7370f93d1d0cde622a1f8e1c04877d8463912d04d973331ad4851f04de6915a"
   }
  }
 },
 "nbformat": 4,
 "nbformat_minor": 2
}
