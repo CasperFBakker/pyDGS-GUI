{
 "cells": [
  {
   "cell_type": "code",
   "execution_count": 9,
   "metadata": {},
   "outputs": [],
   "source": [
    "import numpy as np\n",
    "import sys, os\n",
    "from imageio.v2 import imread\n",
    "import pywt\n",
    "from tqdm import tqdm\n",
    "from skimage.restoration import denoise_wavelet, estimate_sigma\n",
    "from functools import partial\n",
    "# rescale_sigma=True required to silence deprecation warnings\n",
    "_denoise_wavelet = partial(denoise_wavelet, rescale_sigma=True)\n",
    "import scipy.stats as stats\n",
    "from scipy.stats import gmean\n",
    "import cv2\n",
    "import matplotlib.pyplot as plt\n",
    "import pandas as pd\n",
    "from numba import njit\n",
    "\n",
    "\n",
    "# =========================================================\n",
    "def rescale(dat,mn,mx):\n",
    "    \"\"\"\n",
    "    rescales an input dat between mn and mx\n",
    "    \"\"\"\n",
    "    m = min(dat.flatten())\n",
    "    M = max(dat.flatten())\n",
    "    return (mx-mn)*(dat-m)/(M-m)+mn\n",
    "\n",
    "##====================================\n",
    "def standardize(img):\n",
    "    img = np.array(img)\n",
    "    #standardization using adjusted standard deviation\n",
    "    N = np.shape(img)[0] * np.shape(img)[1]\n",
    "    s = np.maximum(np.std(img), 1.0/np.sqrt(N))\n",
    "    m = np.mean(img)\n",
    "    img = (img - m) / s\n",
    "    img = rescale(img, 0, 1)\n",
    "    del m, s, N\n",
    "\n",
    "    return img"
   ]
  },
  {
   "cell_type": "code",
   "execution_count": 26,
   "metadata": {},
   "outputs": [],
   "source": [
    "def pyDGS(original, nx, ny, width, resolution):\n",
    "    P = []; M = []\n",
    "    for k in np.linspace(1,nx-1,100):\n",
    "        [cfs, frequencies] = pywt.cwt(original[int(k),:], np.arange(3, np.maximum(nx,ny)/(width*resolution / 8), 0.1),  'morl', .5) \n",
    "        period = 1. / frequencies\n",
    "        power =(abs(cfs)) ** 2\n",
    "        power = np.mean(np.abs(power), axis=1)/(period**2)\n",
    "        P.append(power)\n",
    "\n",
    "        M.append(period[np.argmax(power)])\n",
    "    return P, M, period\n"
   ]
  },
  {
   "cell_type": "code",
   "execution_count": 25,
   "metadata": {},
   "outputs": [],
   "source": [
    "def PostProc():\n",
    "    p = np.mean(np.vstack(P), axis=0)\n",
    "    p = np.array(p/np.sum(p))\n",
    "\n",
    "    # get real scales by multiplying by resolution (mm/pixel)\n",
    "    scales = np.array(period)\n",
    "\n",
    "    srt = np.sqrt(np.sum(p*((scales-np.mean(M))**2)))\n",
    "\n",
    "    p = p+stats.norm.pdf(scales, np.mean(M), srt/2)\n",
    "    p = np.hstack([p])\n",
    "    scales = np.hstack([scales])\n",
    "    p = p/np.sum(p)\n",
    "    x = 0\n",
    "    # area-by-number to volume-by-number\n",
    "    r_v = (p*scales**x) / np.sum(p*scales**x) #volume-by-weight proportion\n",
    "\n",
    "    a = (scales*resolution)\n",
    "    minSz = np.array([0, 0.063, 0.125, 0.180, 0.250, 0.300, 0.355, 0.425, 0.500, 0.710, 1, 2, 4, 8])\n",
    "    maxSz = np.array([0.063, 0.125, 0.180, 0.250, 0.300, 0.355, 0.425, 0.500, 0.710, 1, 2, 4, 8, 12])\n",
    "\n",
    "    for i in range(len(minSz)):\n",
    "        _, length = np.shape(np.where((a>minSz[i])&(a<maxSz[i])))\n",
    "        print(((np.trapz(np.interp([np.linspace(minSz[i], maxSz[i], 1000)], (scales*resolution), r_v)[0])*length/1000))*100)"
   ]
  },
  {
   "cell_type": "code",
   "execution_count": 23,
   "metadata": {},
   "outputs": [],
   "source": [
    "def PreProc(image):\n",
    "    \n",
    "    im = imread(image)   # read the image straight with imread\n",
    "    im = np.squeeze(im)  # squeeze singleton dimensions\n",
    "    if len(np.shape(im))>3:\n",
    "        im = im[:, :, :3]            # only keep the first 3 bands\n",
    "\n",
    "    if len(np.shape(im))==3: # if rgb, convert to grey\n",
    "        im = (0.299 * im[:,:,0] + 0.5870*im[:,:,1] + 0.114*im[:,:,2]).astype('uint8')\n",
    "\n",
    "    nx,ny = np.shape(im)\n",
    "    if nx>ny:\n",
    "        im=im.T\n",
    "\n",
    "    im = standardize(im)\n",
    "\n",
    "    region = im.copy()\n",
    "\n",
    "    original = rescale(region,0,255)\n",
    "\n",
    "    nx, ny = original.shape\n",
    "\n",
    "    return original, nx, ny\n"
   ]
  },
  {
   "cell_type": "code",
   "execution_count": 21,
   "metadata": {},
   "outputs": [],
   "source": [
    "image = '/home/casper/Documents/Aardwetenschappen/MSc Thesis/Photo/08_07_22/Location_1/Loc_1_7.jpg'\n",
    "resolution =  0.036966463\n",
    "img = cv2.imread(image)\n",
    "nxx, nyy, _ = img.shape\n",
    "width = max(nxx, nyy)\n",
    "x= 0\n",
    "\n",
    "original, nx, ny = PreProc(image)"
   ]
  },
  {
   "cell_type": "code",
   "execution_count": 42,
   "metadata": {},
   "outputs": [
    {
     "name": "stdout",
     "output_type": "stream",
     "text": [
      "[]\n"
     ]
    }
   ],
   "source": [
    "from multiprocessing import Process\n",
    "import numpy as np\n",
    "\n",
    "def task(args):\n",
    "    [cfs, frequencies] = pywt.cwt(original[int(args),:], np.arange(3, np.maximum(nx,ny)/(width*resolution / 8), 0.1),  'morl', .5) \n",
    "    period = 1. / frequencies\n",
    "    power =(abs(cfs)) ** 2\n",
    "    power = np.mean(np.abs(power), axis=1)/(period**2)\n",
    "    P.append(power)\n",
    "\n",
    "    M.append(period[np.argmax(power)])\n",
    "    return P, M, period\n",
    "\n",
    "P = []; M = []\n",
    "for k in np.linspace(1,nx-1,100):\n",
    "\n",
    "    process = Process(target=task, args=(k, ))\n",
    "\n",
    "    process.start()\n",
    "\n",
    "print(M)"
   ]
  }
 ],
 "metadata": {
  "kernelspec": {
   "display_name": "Python 3.10.5 64-bit",
   "language": "python",
   "name": "python3"
  },
  "language_info": {
   "codemirror_mode": {
    "name": "ipython",
    "version": 3
   },
   "file_extension": ".py",
   "mimetype": "text/x-python",
   "name": "python",
   "nbconvert_exporter": "python",
   "pygments_lexer": "ipython3",
   "version": "3.10.5"
  },
  "orig_nbformat": 4,
  "vscode": {
   "interpreter": {
    "hash": "e7370f93d1d0cde622a1f8e1c04877d8463912d04d973331ad4851f04de6915a"
   }
  }
 },
 "nbformat": 4,
 "nbformat_minor": 2
}
