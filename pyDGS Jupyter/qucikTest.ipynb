{
 "cells": [
  {
   "cell_type": "code",
   "execution_count": 1,
   "metadata": {},
   "outputs": [],
   "source": [
    "import numpy as np\n",
    "import sys, os\n",
    "from imageio.v2 import imread\n",
    "import pywt\n",
    "from tqdm import tqdm\n",
    "from skimage.restoration import denoise_wavelet, estimate_sigma\n",
    "from functools import partial\n",
    "# rescale_sigma=True required to silence deprecation warnings\n",
    "_denoise_wavelet = partial(denoise_wavelet, rescale_sigma=True)\n",
    "import scipy.stats as stats\n",
    "from scipy.stats import gmean\n",
    "import cv2\n",
    "import matplotlib.pyplot as plt\n",
    "import pandas as pd\n",
    "\n",
    "\n",
    "# =========================================================\n",
    "def rescale(dat,mn,mx):\n",
    "    \"\"\"\n",
    "    rescales an input dat between mn and mx\n",
    "    \"\"\"\n",
    "    m = min(dat.flatten())\n",
    "    M = max(dat.flatten())\n",
    "    return (mx-mn)*(dat-m)/(M-m)+mn\n",
    "\n",
    "##====================================\n",
    "def standardize(img):\n",
    "    img = np.array(img)\n",
    "    #standardization using adjusted standard deviation\n",
    "    N = np.shape(img)[0] * np.shape(img)[1]\n",
    "    s = np.maximum(np.std(img), 1.0/np.sqrt(N))\n",
    "    m = np.mean(img)\n",
    "    img = (img - m) / s\n",
    "    img = rescale(img, 0, 1)\n",
    "    del m, s, N\n",
    "\n",
    "    return img"
   ]
  },
  {
   "cell_type": "code",
   "execution_count": 2,
   "metadata": {},
   "outputs": [
    {
     "ename": "NameError",
     "evalue": "name 'resolution' is not defined",
     "output_type": "error",
     "traceback": [
      "\u001b[0;31m---------------------------------------------------------------------------\u001b[0m",
      "\u001b[0;31mNameError\u001b[0m                                 Traceback (most recent call last)",
      "\u001b[1;32m/home/casper/Documents/Python/pyDGS GUI/pyDGS Jupyter/qucikTest.ipynb Cell 2\u001b[0m in \u001b[0;36m<cell line: 1>\u001b[0;34m()\u001b[0m\n\u001b[0;32m----> <a href='vscode-notebook-cell:/home/casper/Documents/Python/pyDGS%20GUI/pyDGS%20Jupyter/qucikTest.ipynb#W1sZmlsZQ%3D%3D?line=0'>1</a>\u001b[0m \u001b[39mprint\u001b[39m(\u001b[39m0.125\u001b[39m\u001b[39m/\u001b[39mresolution)\n",
      "\u001b[0;31mNameError\u001b[0m: name 'resolution' is not defined"
     ]
    }
   ],
   "source": [
    "print(0.125/resolution)"
   ]
  },
  {
   "cell_type": "code",
   "execution_count": 3,
   "metadata": {},
   "outputs": [
    {
     "name": "stdout",
     "output_type": "stream",
     "text": [
      "0.0\n",
      "3.6697421808241195\n",
      "3.867639373382791\n",
      "4.82832055868302\n",
      "3.6227457714627564\n",
      "4.160653174369545\n",
      "5.020805140172642\n",
      "5.513820964762265\n",
      "15.084894931904888\n",
      "18.184758570820954\n",
      "30.768168196633017\n",
      "4.7938385052186305\n",
      "0.34567190868732406\n",
      "0.0\n"
     ]
    }
   ],
   "source": [
    "image = '/home/casper/Documents/Aardwetenschappen/MSc Thesis/Photo/08_07_22/Location_1/Loc_1_7.jpg'\n",
    "resolution =  0.036966463\n",
    "img = cv2.imread(image)\n",
    "nxx, nyy, _ = img.shape\n",
    "width = max(nxx, nyy)\n",
    "\n",
    "x= 0\n",
    "\n",
    "im = imread(image)   # read the image straight with imread\n",
    "im = np.squeeze(im)  # squeeze singleton dimensions\n",
    "if len(np.shape(im))>3:\n",
    "    im = im[:, :, :3]            # only keep the first 3 bands\n",
    "\n",
    "if len(np.shape(im))==3: # if rgb, convert to grey\n",
    "    im = (0.299 * im[:,:,0] + 0.5870*im[:,:,1] + 0.114*im[:,:,2]).astype('uint8')\n",
    "\n",
    "nx,ny = np.shape(im)\n",
    "if nx>ny:\n",
    "    im=im.T\n",
    "\n",
    "im = standardize(im)\n",
    "\n",
    "region = im.copy()\n",
    "\n",
    "original = rescale(region,0,255)\n",
    "\n",
    "nx, ny = original.shape\n",
    "\n",
    "P = []; M = []\n",
    "for k in np.linspace(1,nx-1,100):\n",
    "    [cfs, frequencies] = pywt.cwt(original[int(k),:], np.arange(3, np.maximum(nx,ny)/(width*resolution / 8), 0.1),  'morl', .5) \n",
    "    period = 1. / frequencies\n",
    "    power =(abs(cfs)) ** 2\n",
    "    power = np.mean(np.abs(power), axis=1)/(period**2)\n",
    "    P.append(power)\n",
    "\n",
    "    M.append(period[np.argmax(power)])\n",
    "\n",
    "p = np.mean(np.vstack(P), axis=0)\n",
    "p = np.array(p/np.sum(p))\n",
    "\n",
    "# get real scales by multiplying by resolution (mm/pixel)\n",
    "scales = np.array(period)\n",
    "\n",
    "srt = np.sqrt(np.sum(p*((scales-np.mean(M))**2)))\n",
    "\n",
    "p = p+stats.norm.pdf(scales, np.mean(M), srt/2)\n",
    "p = np.hstack([p])\n",
    "scales = np.hstack([scales])\n",
    "p = p/np.sum(p)\n",
    "x = 0\n",
    "# area-by-number to volume-by-number\n",
    "r_v = (p*scales**x) / np.sum(p*scales**x) #volume-by-weight proportion\n",
    "\n",
    "a = (scales*resolution)\n",
    "minSz = np.array([0, 0.063, 0.125, 0.180, 0.250, 0.300, 0.355, 0.425, 0.500, 0.710, 1, 2, 4, 8])\n",
    "maxSz = np.array([0.063, 0.125, 0.180, 0.250, 0.300, 0.355, 0.425, 0.500, 0.710, 1, 2, 4, 8, 12])\n",
    "\n",
    "for i in range(len(minSz)):\n",
    "    _, length = np.shape(np.where((a>minSz[i])&(a<maxSz[i])))\n",
    "    print(((np.trapz(np.interp([np.linspace(minSz[i], maxSz[i], 1000)], (scales*resolution), r_v)[0])*length/1000))*100)"
   ]
  },
  {
   "cell_type": "code",
   "execution_count": 5,
   "metadata": {},
   "outputs": [
    {
     "name": "stdout",
     "output_type": "stream",
     "text": [
      "[0.0014387 0.0028792 0.0043221 ... 0.9999838 0.9999919 1.       ]\n"
     ]
    }
   ],
   "source": [
    "print(np.cumsum(r_v))"
   ]
  },
  {
   "cell_type": "code",
   "execution_count": 17,
   "metadata": {},
   "outputs": [
    {
     "name": "stdout",
     "output_type": "stream",
     "text": [
      "[3.6768223464055416, 3.867639373382791, 4.82832055868302, 3.6227457714627564, 4.160653174369545, 5.020805140172642, 5.513820964762265, 15.084894931904888, 18.184758570820954, 30.768168196633017, 4.7938385052186305, 0.34567190868732406, 0.0]\n"
     ]
    }
   ],
   "source": [
    "percentage = []\n",
    "if a[0] > 0.063:\n",
    "    minSz = np.array([0.125, 0.180, 0.250, 0.300, 0.355, 0.425, 0.500, 0.710, 1, 2, 4, 8])\n",
    "    maxSz = np.array([0.180, 0.250, 0.300, 0.355, 0.425, 0.500, 0.710, 1, 2, 4, 8, 12])\n",
    "\n",
    "    _, length =  np.shape(np.where(a<0.125))\n",
    "    percentage.append(((np.trapz(np.interp([np.linspace(a[0], 0.125, 1000)], (scales*resolution), r_v)[0])*length/1000))*100)\n",
    "    for i in range(len(minSz)):\n",
    "        _, length = np.shape(np.where((a>minSz[i])&(a<maxSz[i])))   \n",
    "        percentage.append(((np.trapz(np.interp([np.linspace(minSz[i], maxSz[i], 1000)], (scales*resolution), r_v)[0])*length/1000))*100)\n",
    "\n",
    "print(percentage)"
   ]
  },
  {
   "cell_type": "code",
   "execution_count": 11,
   "metadata": {},
   "outputs": [
    {
     "name": "stdout",
     "output_type": "stream",
     "text": [
      "[0.06824578 0.09099437 0.11374296 0.13649156 0.15924015 0.18198874\n",
      " 0.20473733 0.22748593 0.25023452 0.27298311 0.2957317  0.3184803\n",
      " 0.34122889 0.36397748 0.38672607 0.40947467 0.43222326 0.45497185\n",
      " 0.47772044 0.50046904 0.52321763 0.54596622 0.56871482 0.59146341\n",
      " 0.614212   0.63696059 0.65970919 0.68245778 0.70520637 0.72795496\n",
      " 0.75070356 0.77345215 0.79620074 0.81894933 0.84169793 0.86444652\n",
      " 0.88719511 0.9099437  0.9326923  0.95544089 0.97818948 1.00093808\n",
      " 1.02368667 1.04643526 1.06918385 1.09193245 1.11468104 1.13742963\n",
      " 1.16017822 1.18292682 1.20567541 1.228424   1.25117259 1.27392119\n",
      " 1.29666978 1.31941837 1.34216696 1.36491556 1.38766415 1.41041274\n",
      " 1.43316133 1.45590993 1.47865852 1.50140711 1.52415571 1.5469043\n",
      " 1.56965289 1.59240148 1.61515008 1.63789867 1.66064726 1.68339585\n",
      " 1.70614445 1.72889304 1.75164163 1.77439022 1.79713882 1.81988741\n",
      " 1.842636   1.86538459 1.88813319 1.91088178 1.93363037 1.95637896\n",
      " 1.97912756 2.00187615 2.02462474 2.04737334 2.07012193 2.09287052\n",
      " 2.11561911 2.13836771 2.1611163  2.18386489 2.20661348 2.22936208\n",
      " 2.25211067 2.27485926 2.29760785 2.32035645 2.34310504 2.36585363\n",
      " 2.38860222 2.41135082 2.43409941 2.456848   2.4795966  2.50234519\n",
      " 2.52509378 2.54784237 2.57059097 2.59333956 2.61608815 2.63883674\n",
      " 2.66158534 2.68433393 2.70708252 2.72983111 2.75257971 2.7753283\n",
      " 2.79807689 2.82082548 2.84357408 2.86632267 2.88907126 2.91181985\n",
      " 2.93456845 2.95731704 2.98006563 3.00281423 3.02556282 3.04831141\n",
      " 3.07106    3.0938086  3.11655719 3.13930578 3.16205437 3.18480297\n",
      " 3.20755156 3.23030015 3.25304874 3.27579734 3.29854593 3.32129452\n",
      " 3.34404311 3.36679171 3.3895403  3.41228889 3.43503748 3.45778608\n",
      " 3.48053467 3.50328326 3.52603186 3.54878045 3.57152904 3.59427763\n",
      " 3.61702623 3.63977482 3.66252341 3.685272   3.7080206  3.73076919\n",
      " 3.75351778 3.77626637 3.79901497 3.82176356 3.84451215 3.86726074\n",
      " 3.89000934 3.91275793 3.93550652 3.95825512 3.98100371 4.0037523\n",
      " 4.02650089 4.04924949 4.07199808 4.09474667 4.11749526 4.14024386\n",
      " 4.16299245 4.18574104 4.20848963 4.23123823 4.25398682 4.27673541\n",
      " 4.299484   4.3222326  4.34498119 4.36772978 4.39047837 4.41322697\n",
      " 4.43597556 4.45872415 4.48147275 4.50422134 4.52696993 4.54971852\n",
      " 4.57246712 4.59521571 4.6179643  4.64071289 4.66346149 4.68621008\n",
      " 4.70895867 4.73170726 4.75445586 4.77720445 4.79995304 4.82270163\n",
      " 4.84545023 4.86819882 4.89094741 4.913696   4.9364446  4.95919319\n",
      " 4.98194178 5.00469038 5.02743897 5.05018756 5.07293615 5.09568475\n",
      " 5.11843334 5.14118193 5.16393052 5.18667912 5.20942771 5.2321763\n",
      " 5.25492489 5.27767349 5.30042208 5.32317067 5.34591926 5.36866786\n",
      " 5.39141645 5.41416504 5.43691364 5.45966223 5.48241082 5.50515941\n",
      " 5.52790801 5.5506566  5.57340519 5.59615378 5.61890238 5.64165097\n",
      " 5.66439956 5.68714815 5.70989675 5.73264534 5.75539393 5.77814252\n",
      " 5.80089112 5.82363971 5.8463883  5.86913689 5.89188549 5.91463408\n",
      " 5.93738267 5.96013127 5.98287986 6.00562845 6.02837704 6.05112564\n",
      " 6.07387423 6.09662282 6.11937141 6.14212001 6.1648686  6.18761719\n",
      " 6.21036578 6.23311438 6.25586297 6.27861156 6.30136015 6.32410875\n",
      " 6.34685734 6.36960593 6.39235452 6.41510312 6.43785171 6.4606003\n",
      " 6.4833489  6.50609749 6.52884608 6.55159467 6.57434327 6.59709186\n",
      " 6.61984045 6.64258904 6.66533764 6.68808623 6.71083482 6.73358341\n",
      " 6.75633201 6.7790806  6.80182919 6.82457778 6.84732638 6.87007497\n",
      " 6.89282356 6.91557216 6.93832075 6.96106934 6.98381793 7.00656653\n",
      " 7.02931512 7.05206371 7.0748123  7.0975609  7.12030949 7.14305808\n",
      " 7.16580667 7.18855527 7.21130386 7.23405245 7.25680104 7.27954964\n",
      " 7.30229823 7.32504682 7.34779541 7.37054401]\n",
      "(1, 3)\n"
     ]
    }
   ],
   "source": [
    "a = (scales*resolution)\n",
    "print(a)\n",
    "minSz = np.array([0, 0.063, 0.125, 0.180, 0.250, 0.300, 0.355, 0.425, 0.500, 0.710, 1, 2, 4, 8])\n",
    "maxSz = np.array([0.063, 0.125, 0.180, 0.250, 0.300, 0.355, 0.425, 0.500, 0.710, 1, 2, 4, 8, 12])\n",
    "_, length = np.shape(np.where((a>minSz[1])&(a<maxSz[1])))\n",
    "print(np.shape(np.where((a>minSz[1])&(a<maxSz[1]))))\n",
    "\n",
    "# for i in range(len(minSz)):\n",
    "#     _, length = np.shape(np.where((a>minSz[i])&(a<maxSz[i])))\n",
    "#     print(((np.trapz(np.interp([np.linspace(minSz[i], maxSz[i], 2)], (scales*resolution), r_v)[0])*length/2))*100)"
   ]
  },
  {
   "cell_type": "code",
   "execution_count": null,
   "metadata": {},
   "outputs": [],
   "source": [
    "np.linspace(2, 4, 2)"
   ]
  },
  {
   "cell_type": "code",
   "execution_count": null,
   "metadata": {},
   "outputs": [],
   "source": []
  },
  {
   "cell_type": "code",
   "execution_count": 5,
   "metadata": {},
   "outputs": [
    {
     "data": {
      "image/png": "[encoded data removed]",
      "text/plain": [
       "<Figure size 432x288 with 1 Axes>"
      ]
     },
     "metadata": {
      "needs_background": "light"
     },
     "output_type": "display_data"
    }
   ],
   "source": [
    "plt.plot((scales*resolution), r_v); plt.show()"
   ]
  }
 ],
 "metadata": {
  "kernelspec": {
   "display_name": "Python 3.10.5 64-bit",
   "language": "python",
   "name": "python3"
  },
  "language_info": {
   "codemirror_mode": {
    "name": "ipython",
    "version": 3
   },
   "file_extension": ".py",
   "mimetype": "text/x-python",
   "name": "python",
   "nbconvert_exporter": "python",
   "pygments_lexer": "ipython3",
   "version": "3.10.5"
  },
  "orig_nbformat": 4,
  "vscode": {
   "interpreter": {
    "hash": "e7370f93d1d0cde622a1f8e1c04877d8463912d04d973331ad4851f04de6915a"
   }
  }
 },
 "nbformat": 4,
 "nbformat_minor": 2
}
